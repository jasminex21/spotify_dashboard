


import pandas as pd
import requests
import os
import json
from dotenv import load_dotenv


# load environmental variables - lastfm API keys are stored here
load_dotenv()


USER_AGENT = os.getenv('LASTFM_USER_AGENT')
API_KEY = os.getenv('LASTFM_API_KEY')


headers = {'user-agent': USER_AGENT}


def lastfm_get(payload):
    """Function to streamline API calls"""

    headers = {'user-agent': USER_AGENT}
    url = 'https://ws.audioscrobbler.com/2.0/'

    # Add API key and format to the payload
    payload['api_key'] = API_KEY
    payload['format'] = 'json'

    response = requests.get(url, headers=headers, params=payload)
    
    return response


def jprint(obj):
    # create a formatted string of the Python JSON object
    text = json.dumps(obj, sort_keys=True, indent=4)
    print(text)


r = lastfm_get({
    'method': 'chart.gettopartists'
})
r.status_code


jprint(r.json())


https://ws.audioscrobbler.com/2.0/?method=user.gettoptracks&user=rj&api_key=YOUR_API_KEY&format=json


r = lastfm_get({'method': 'user.gettoptracks', 
                'user': "jasminexx18"})
r.status_code


jprint(r.json())


toptracks = r.json()["toptracks"]
toptracks


toptracks["track"]


all_top_tracks = []

for track in toptracks["track"]: 
    track_info = {
        "rank": track["@attr"]["rank"],
        "image_url": track["image"][1]["#text"],
        "name": track["name"],
        "artist": track["artist"]["name"],
        "num_streams": track["playcount"]
    }
    all_top_tracks.append(track_info)


all_top_tracks = pd.DataFrame(all_top_tracks)
all_top_tracks



